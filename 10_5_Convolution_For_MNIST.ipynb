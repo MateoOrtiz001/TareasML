{
  "nbformat": 4,
  "nbformat_minor": 0,
  "metadata": {
    "colab": {
      "provenance": [],
      "include_colab_link": true
    },
    "kernelspec": {
      "name": "python3",
      "display_name": "Python 3"
    },
    "language_info": {
      "name": "python"
    }
  },
  "cells": [
    {
      "cell_type": "markdown",
      "metadata": {
        "id": "view-in-github",
        "colab_type": "text"
      },
      "source": [
        "<a href=\"https://colab.research.google.com/github/MateoOrtiz001/TareasML/blob/main/10_5_Convolution_For_MNIST.ipynb\" target=\"_parent\"><img src=\"https://colab.research.google.com/assets/colab-badge.svg\" alt=\"Open In Colab\"/></a>"
      ]
    },
    {
      "cell_type": "markdown",
      "source": [
        "# **Notebook 10.5: Convolution for MNIST**\n",
        "\n",
        "This notebook builds a proper network for 2D convolution.  It works with the MNIST dataset (figure 15.15a), which was the original classic dataset for classifying images.  The network will take a 28x28 grayscale image and classify it into one of 10 classes representing a digit.\n",
        "\n",
        "The code is adapted from https://nextjournal.com/gkoehler/pytorch-mnist\n",
        "\n",
        "Work through the cells below, running each cell in turn. In various places you will see the words \"TO DO\". Follow the instructions at these places and make predictions about what is going to happen or write code to complete the functions.\n",
        "\n",
        "Contact me at udlbookmail@gmail.com if you find any mistakes or have any suggestions.\n"
      ],
      "metadata": {
        "id": "t9vk9Elugvmi"
      }
    },
    {
      "cell_type": "code",
      "source": [
        "import torch\n",
        "import torchvision\n",
        "import torch.nn as nn\n",
        "import torch.nn.functional as F\n",
        "import torch.optim as optim\n",
        "import matplotlib.pyplot as plt\n",
        "import random"
      ],
      "metadata": {
        "id": "YrXWAH7sUWvU"
      },
      "execution_count": 1,
      "outputs": []
    },
    {
      "cell_type": "code",
      "source": [
        "# Run this once to load the train and test data straight into a dataloader class\n",
        "# that will provide the batches\n",
        "batch_size_train = 64\n",
        "batch_size_test = 1000\n",
        "train_loader = torch.utils.data.DataLoader(\n",
        "  torchvision.datasets.MNIST('/files/', train=True, download=True,\n",
        "                             transform=torchvision.transforms.Compose([\n",
        "                               torchvision.transforms.ToTensor(),\n",
        "                               torchvision.transforms.Normalize(\n",
        "                                 (0.1307,), (0.3081,))\n",
        "                             ])),\n",
        "  batch_size=batch_size_train, shuffle=True)\n",
        "\n",
        "test_loader = torch.utils.data.DataLoader(\n",
        "  torchvision.datasets.MNIST('/files/', train=False, download=True,\n",
        "                             transform=torchvision.transforms.Compose([\n",
        "                               torchvision.transforms.ToTensor(),\n",
        "                               torchvision.transforms.Normalize(\n",
        "                                 (0.1307,), (0.3081,))\n",
        "                             ])),\n",
        "  batch_size=batch_size_test, shuffle=True)"
      ],
      "metadata": {
        "id": "wScBGXXFVadm",
        "colab": {
          "base_uri": "https://localhost:8080/"
        },
        "outputId": "bee6d4e2-e824-4246-d29b-d5d0b1d0c538"
      },
      "execution_count": 2,
      "outputs": [
        {
          "output_type": "stream",
          "name": "stdout",
          "text": [
            "Downloading http://yann.lecun.com/exdb/mnist/train-images-idx3-ubyte.gz\n",
            "Failed to download (trying next):\n",
            "HTTP Error 403: Forbidden\n",
            "\n",
            "Downloading https://ossci-datasets.s3.amazonaws.com/mnist/train-images-idx3-ubyte.gz\n",
            "Downloading https://ossci-datasets.s3.amazonaws.com/mnist/train-images-idx3-ubyte.gz to /files/MNIST/raw/train-images-idx3-ubyte.gz\n"
          ]
        },
        {
          "output_type": "stream",
          "name": "stderr",
          "text": [
            "100%|██████████| 9912422/9912422 [00:00<00:00, 144720401.99it/s]\n"
          ]
        },
        {
          "output_type": "stream",
          "name": "stdout",
          "text": [
            "Extracting /files/MNIST/raw/train-images-idx3-ubyte.gz to /files/MNIST/raw\n",
            "\n",
            "Downloading http://yann.lecun.com/exdb/mnist/train-labels-idx1-ubyte.gz\n",
            "Failed to download (trying next):\n",
            "HTTP Error 403: Forbidden\n",
            "\n",
            "Downloading https://ossci-datasets.s3.amazonaws.com/mnist/train-labels-idx1-ubyte.gz\n",
            "Downloading https://ossci-datasets.s3.amazonaws.com/mnist/train-labels-idx1-ubyte.gz to /files/MNIST/raw/train-labels-idx1-ubyte.gz\n"
          ]
        },
        {
          "output_type": "stream",
          "name": "stderr",
          "text": [
            "100%|██████████| 28881/28881 [00:00<00:00, 45728838.74it/s]\n"
          ]
        },
        {
          "output_type": "stream",
          "name": "stdout",
          "text": [
            "Extracting /files/MNIST/raw/train-labels-idx1-ubyte.gz to /files/MNIST/raw\n",
            "\n",
            "Downloading http://yann.lecun.com/exdb/mnist/t10k-images-idx3-ubyte.gz\n",
            "Failed to download (trying next):\n",
            "HTTP Error 403: Forbidden\n",
            "\n",
            "Downloading https://ossci-datasets.s3.amazonaws.com/mnist/t10k-images-idx3-ubyte.gz\n",
            "Downloading https://ossci-datasets.s3.amazonaws.com/mnist/t10k-images-idx3-ubyte.gz to /files/MNIST/raw/t10k-images-idx3-ubyte.gz\n"
          ]
        },
        {
          "output_type": "stream",
          "name": "stderr",
          "text": [
            "100%|██████████| 1648877/1648877 [00:00<00:00, 91798181.48it/s]\n"
          ]
        },
        {
          "output_type": "stream",
          "name": "stdout",
          "text": [
            "Extracting /files/MNIST/raw/t10k-images-idx3-ubyte.gz to /files/MNIST/raw\n",
            "\n",
            "Downloading http://yann.lecun.com/exdb/mnist/t10k-labels-idx1-ubyte.gz\n",
            "Failed to download (trying next):\n",
            "HTTP Error 403: Forbidden\n",
            "\n",
            "Downloading https://ossci-datasets.s3.amazonaws.com/mnist/t10k-labels-idx1-ubyte.gz\n",
            "Downloading https://ossci-datasets.s3.amazonaws.com/mnist/t10k-labels-idx1-ubyte.gz to /files/MNIST/raw/t10k-labels-idx1-ubyte.gz\n"
          ]
        },
        {
          "output_type": "stream",
          "name": "stderr",
          "text": [
            "100%|██████████| 4542/4542 [00:00<00:00, 7341244.23it/s]\n"
          ]
        },
        {
          "output_type": "stream",
          "name": "stdout",
          "text": [
            "Extracting /files/MNIST/raw/t10k-labels-idx1-ubyte.gz to /files/MNIST/raw\n",
            "\n"
          ]
        }
      ]
    },
    {
      "cell_type": "code",
      "source": [
        "# Let's draw some of the training data\n",
        "examples = enumerate(test_loader)\n",
        "batch_idx, (example_data, example_targets) = next(examples)\n",
        "\n",
        "fig = plt.figure()\n",
        "for i in range(6):\n",
        "  plt.subplot(2,3,i+1)\n",
        "  plt.tight_layout()\n",
        "  plt.imshow(example_data[i][0], cmap='gray', interpolation='none')\n",
        "  plt.title(\"Ground Truth: {}\".format(example_targets[i]))\n",
        "  plt.xticks([])\n",
        "  plt.yticks([])\n",
        "plt.show()"
      ],
      "metadata": {
        "id": "8bKADvLHbiV5",
        "colab": {
          "base_uri": "https://localhost:8080/",
          "height": 458
        },
        "outputId": "7bb94c5e-89a4-40df-f311-aa866b5a62cd"
      },
      "execution_count": 3,
      "outputs": [
        {
          "output_type": "display_data",
          "data": {
            "text/plain": [
              "<Figure size 640x480 with 6 Axes>"
            ],
            "image/png": "[encoded data removed]"
          },
          "metadata": {}
        }
      ]
    },
    {
      "cell_type": "markdown",
      "source": [
        "Define the network.  This is a more typical way to define a network than the sequential structure.  We define a class for the network, and define the parameters in the constructor.  Then we use a function called forward to actually run the network.  It's easy to see how you might use residual connections in this format."
      ],
      "metadata": {
        "id": "_sFvRDGrl4qe"
      }
    },
    {
      "cell_type": "code",
      "source": [
        "from os import X_OK\n",
        "# TODO Change this class to implement\n",
        "# 1. A valid convolution with kernel size 5, 1 input channel and 10 output channels\n",
        "# 2. A max pooling operation over a 2x2 area\n",
        "# 3. A Relu\n",
        "# 4. A valid convolution with kernel size 5, 10 input channels and 20 output channels\n",
        "# 5. A 2D Dropout layer\n",
        "# 6. A max pooling operation over a 2x2 area\n",
        "# 7. A relu\n",
        "# 8. A flattening operation\n",
        "# 9. A fully connected layer mapping from (whatever dimensions we are at-- find out using .shape) to 50\n",
        "# 10. A ReLU\n",
        "# 11. A fully connected layer mapping from 50 to 10 dimensions\n",
        "# 12. A softmax function.\n",
        "\n",
        "# Replace this class which implements a minimal network (which still does okay)\n",
        "class Net(nn.Module):\n",
        "    def __init__(self):\n",
        "        super(Net, self).__init__()\n",
        "        # Valid convolution, 1 channel in, 2 channels out, stride 1, kernel size = 3\n",
        "        self.conv1 = nn.Conv2d(1, 10, kernel_size=5)\n",
        "        self.conv2 = nn.Conv2d(10, 20, kernel_size=5)\n",
        "        # Dropout for convolutions\n",
        "        self.drop = nn.Dropout2d()\n",
        "        # Fully connected layer\n",
        "        self.fc1 = nn.Linear(320, 50)\n",
        "        self.fc2 = nn.Linear(50,10)\n",
        "\n",
        "\n",
        "    def forward(self, x):\n",
        "        x = self.conv1(x)\n",
        "        x = F.max_pool2d(x,2)\n",
        "        x = F.relu(x)\n",
        "        x = self.conv2(x)\n",
        "        x = self.drop(x)\n",
        "        x = F.max_pool2d(x,2)\n",
        "        x = F.relu(x)\n",
        "        x = x.flatten(1)\n",
        "        x = self.fc1(x)\n",
        "        x = F.relu(x)\n",
        "        x = self.fc2(x)\n",
        "        x = F.log_softmax(x)\n",
        "        return x\n",
        "\n",
        "\n",
        "\n",
        "\n"
      ],
      "metadata": {
        "id": "EQkvw2KOPVl7"
      },
      "execution_count": 4,
      "outputs": []
    },
    {
      "cell_type": "code",
      "source": [
        "# He initialization of weights\n",
        "def weights_init(layer_in):\n",
        "  if isinstance(layer_in, nn.Linear):\n",
        "    nn.init.kaiming_uniform_(layer_in.weight)\n",
        "    layer_in.bias.data.fill_(0.0)"
      ],
      "metadata": {
        "id": "qWZtkCZcU_dg"
      },
      "execution_count": 5,
      "outputs": []
    },
    {
      "cell_type": "code",
      "source": [
        "# Create network\n",
        "model = Net()\n",
        "# Initialize model weights\n",
        "model.apply(weights_init)\n",
        "# Define optimizer\n",
        "optimizer = optim.SGD(model.parameters(), lr=0.01, momentum=0.5)"
      ],
      "metadata": {
        "id": "FslroPJJffrh"
      },
      "execution_count": 6,
      "outputs": []
    },
    {
      "cell_type": "code",
      "source": [
        "# Main training routine\n",
        "def train(epoch):\n",
        "  model.train()\n",
        "  # Get each\n",
        "  for batch_idx, (data, target) in enumerate(train_loader):\n",
        "    optimizer.zero_grad()\n",
        "    output = model(data)\n",
        "    loss = F.nll_loss(output, target)\n",
        "    loss.backward()\n",
        "    optimizer.step()\n",
        "    # Store results\n",
        "    if batch_idx % 10 == 0:\n",
        "      print('Train Epoch: {} [{}/{}]\\tLoss: {:.6f}'.format(\n",
        "        epoch, batch_idx * len(data), len(train_loader.dataset), loss.item()))"
      ],
      "metadata": {
        "id": "xKQd9PzkQ766"
      },
      "execution_count": 7,
      "outputs": []
    },
    {
      "cell_type": "code",
      "source": [
        "# Run on test data\n",
        "def test():\n",
        "  model.eval()\n",
        "  test_loss = 0\n",
        "  correct = 0\n",
        "  with torch.no_grad():\n",
        "    for data, target in test_loader:\n",
        "      output = model(data)\n",
        "      test_loss += F.nll_loss(output, target, size_average=False).item()\n",
        "      pred = output.data.max(1, keepdim=True)[1]\n",
        "      correct += pred.eq(target.data.view_as(pred)).sum()\n",
        "  test_loss /= len(test_loader.dataset)\n",
        "  print('\\nTest set: Avg. loss: {:.4f}, Accuracy: {}/{} ({:.0f}%)\\n'.format(\n",
        "    test_loss, correct, len(test_loader.dataset),\n",
        "    100. * correct / len(test_loader.dataset)))"
      ],
      "metadata": {
        "id": "Byn-f7qWRLxX"
      },
      "execution_count": 8,
      "outputs": []
    },
    {
      "cell_type": "code",
      "source": [
        "# Get initial performance\n",
        "test()\n",
        "# Train for three epochs\n",
        "n_epochs = 3\n",
        "for epoch in range(1, n_epochs + 1):\n",
        "  train(epoch)\n",
        "  test()"
      ],
      "metadata": {
        "id": "YgLaex1pfhqz",
        "colab": {
          "base_uri": "https://localhost:8080/"
        },
        "outputId": "c6486114-5b5b-4b83-bd4d-eed5452b33ac"
      },
      "execution_count": 9,
      "outputs": [
        {
          "output_type": "stream",
          "name": "stderr",
          "text": [
            "<ipython-input-4-1d8735c7b380>:42: UserWarning: Implicit dimension choice for log_softmax has been deprecated. Change the call to include dim=X as an argument.\n",
            "  x = F.log_softmax(x)\n",
            "/usr/local/lib/python3.10/dist-packages/torch/nn/_reduction.py:42: UserWarning: size_average and reduce args will be deprecated, please use reduction='sum' instead.\n",
            "  warnings.warn(warning.format(ret))\n"
          ]
        },
        {
          "output_type": "stream",
          "name": "stdout",
          "text": [
            "\n",
            "Test set: Avg. loss: 2.4779, Accuracy: 1198/10000 (12%)\n",
            "\n",
            "Train Epoch: 1 [0/60000]\tLoss: 2.602750\n",
            "Train Epoch: 1 [640/60000]\tLoss: 2.279893\n",
            "Train Epoch: 1 [1280/60000]\tLoss: 2.251142\n",
            "Train Epoch: 1 [1920/60000]\tLoss: 2.138004\n",
            "Train Epoch: 1 [2560/60000]\tLoss: 1.999282\n",
            "Train Epoch: 1 [3200/60000]\tLoss: 1.850372\n",
            "Train Epoch: 1 [3840/60000]\tLoss: 1.809193\n",
            "Train Epoch: 1 [4480/60000]\tLoss: 1.619579\n",
            "Train Epoch: 1 [5120/60000]\tLoss: 1.323302\n",
            "Train Epoch: 1 [5760/60000]\tLoss: 1.280889\n",
            "Train Epoch: 1 [6400/60000]\tLoss: 1.042767\n",
            "Train Epoch: 1 [7040/60000]\tLoss: 0.882152\n",
            "Train Epoch: 1 [7680/60000]\tLoss: 0.835930\n",
            "Train Epoch: 1 [8320/60000]\tLoss: 0.827108\n",
            "Train Epoch: 1 [8960/60000]\tLoss: 0.739182\n",
            "Train Epoch: 1 [9600/60000]\tLoss: 0.743571\n",
            "Train Epoch: 1 [10240/60000]\tLoss: 0.594408\n",
            "Train Epoch: 1 [10880/60000]\tLoss: 0.547636\n",
            "Train Epoch: 1 [11520/60000]\tLoss: 0.673445\n",
            "Train Epoch: 1 [12160/60000]\tLoss: 0.653750\n",
            "Train Epoch: 1 [12800/60000]\tLoss: 0.368434\n",
            "Train Epoch: 1 [13440/60000]\tLoss: 0.787562\n",
            "Train Epoch: 1 [14080/60000]\tLoss: 0.431732\n",
            "Train Epoch: 1 [14720/60000]\tLoss: 0.665817\n",
            "Train Epoch: 1 [15360/60000]\tLoss: 0.787220\n",
            "Train Epoch: 1 [16000/60000]\tLoss: 0.404616\n",
            "Train Epoch: 1 [16640/60000]\tLoss: 0.594671\n",
            "Train Epoch: 1 [17280/60000]\tLoss: 0.389240\n",
            "Train Epoch: 1 [17920/60000]\tLoss: 0.495816\n",
            "Train Epoch: 1 [18560/60000]\tLoss: 0.236070\n",
            "Train Epoch: 1 [19200/60000]\tLoss: 0.388339\n",
            "Train Epoch: 1 [19840/60000]\tLoss: 0.405584\n",
            "Train Epoch: 1 [20480/60000]\tLoss: 0.481770\n",
            "Train Epoch: 1 [21120/60000]\tLoss: 0.480305\n",
            "Train Epoch: 1 [21760/60000]\tLoss: 0.203677\n",
            "Train Epoch: 1 [22400/60000]\tLoss: 0.484049\n",
            "Train Epoch: 1 [23040/60000]\tLoss: 0.517574\n",
            "Train Epoch: 1 [23680/60000]\tLoss: 0.279609\n",
            "Train Epoch: 1 [24320/60000]\tLoss: 0.483570\n",
            "Train Epoch: 1 [24960/60000]\tLoss: 0.219529\n",
            "Train Epoch: 1 [25600/60000]\tLoss: 0.347729\n",
            "Train Epoch: 1 [26240/60000]\tLoss: 0.504841\n",
            "Train Epoch: 1 [26880/60000]\tLoss: 0.203837\n",
            "Train Epoch: 1 [27520/60000]\tLoss: 0.298851\n",
            "Train Epoch: 1 [28160/60000]\tLoss: 0.270070\n",
            "Train Epoch: 1 [28800/60000]\tLoss: 0.247901\n",
            "Train Epoch: 1 [29440/60000]\tLoss: 0.425478\n",
            "Train Epoch: 1 [30080/60000]\tLoss: 0.295582\n",
            "Train Epoch: 1 [30720/60000]\tLoss: 0.338005\n",
            "Train Epoch: 1 [31360/60000]\tLoss: 0.303765\n",
            "Train Epoch: 1 [32000/60000]\tLoss: 0.190107\n",
            "Train Epoch: 1 [32640/60000]\tLoss: 0.229942\n",
            "Train Epoch: 1 [33280/60000]\tLoss: 0.222881\n",
            "Train Epoch: 1 [33920/60000]\tLoss: 0.248038\n",
            "Train Epoch: 1 [34560/60000]\tLoss: 0.248737\n",
            "Train Epoch: 1 [35200/60000]\tLoss: 0.149128\n",
            "Train Epoch: 1 [35840/60000]\tLoss: 0.232092\n",
            "Train Epoch: 1 [36480/60000]\tLoss: 0.455487\n",
            "Train Epoch: 1 [37120/60000]\tLoss: 0.106071\n",
            "Train Epoch: 1 [37760/60000]\tLoss: 0.272125\n",
            "Train Epoch: 1 [38400/60000]\tLoss: 0.374706\n",
            "Train Epoch: 1 [39040/60000]\tLoss: 0.167860\n",
            "Train Epoch: 1 [39680/60000]\tLoss: 0.538933\n",
            "Train Epoch: 1 [40320/60000]\tLoss: 0.343445\n",
            "Train Epoch: 1 [40960/60000]\tLoss: 0.152357\n",
            "Train Epoch: 1 [41600/60000]\tLoss: 0.422868\n",
            "Train Epoch: 1 [42240/60000]\tLoss: 0.347398\n",
            "Train Epoch: 1 [42880/60000]\tLoss: 0.488005\n",
            "Train Epoch: 1 [43520/60000]\tLoss: 0.266154\n",
            "Train Epoch: 1 [44160/60000]\tLoss: 0.142566\n",
            "Train Epoch: 1 [44800/60000]\tLoss: 0.301934\n",
            "Train Epoch: 1 [45440/60000]\tLoss: 0.339486\n",
            "Train Epoch: 1 [46080/60000]\tLoss: 0.133888\n",
            "Train Epoch: 1 [46720/60000]\tLoss: 0.309011\n",
            "Train Epoch: 1 [47360/60000]\tLoss: 0.352667\n",
            "Train Epoch: 1 [48000/60000]\tLoss: 0.136782\n",
            "Train Epoch: 1 [48640/60000]\tLoss: 0.276174\n",
            "Train Epoch: 1 [49280/60000]\tLoss: 0.272637\n",
            "Train Epoch: 1 [49920/60000]\tLoss: 0.210804\n",
            "Train Epoch: 1 [50560/60000]\tLoss: 0.123044\n",
            "Train Epoch: 1 [51200/60000]\tLoss: 0.269938\n",
            "Train Epoch: 1 [51840/60000]\tLoss: 0.143854\n",
            "Train Epoch: 1 [52480/60000]\tLoss: 0.263122\n",
            "Train Epoch: 1 [53120/60000]\tLoss: 0.336906\n",
            "Train Epoch: 1 [53760/60000]\tLoss: 0.168243\n",
            "Train Epoch: 1 [54400/60000]\tLoss: 0.298983\n",
            "Train Epoch: 1 [55040/60000]\tLoss: 0.133836\n",
            "Train Epoch: 1 [55680/60000]\tLoss: 0.204730\n",
            "Train Epoch: 1 [56320/60000]\tLoss: 0.251961\n",
            "Train Epoch: 1 [56960/60000]\tLoss: 0.375445\n",
            "Train Epoch: 1 [57600/60000]\tLoss: 0.053870\n",
            "Train Epoch: 1 [58240/60000]\tLoss: 0.323603\n",
            "Train Epoch: 1 [58880/60000]\tLoss: 0.329560\n",
            "Train Epoch: 1 [59520/60000]\tLoss: 0.250707\n",
            "\n",
            "Test set: Avg. loss: 0.1233, Accuracy: 9608/10000 (96%)\n",
            "\n",
            "Train Epoch: 2 [0/60000]\tLoss: 0.235079\n",
            "Train Epoch: 2 [640/60000]\tLoss: 0.173478\n",
            "Train Epoch: 2 [1280/60000]\tLoss: 0.159478\n",
            "Train Epoch: 2 [1920/60000]\tLoss: 0.227328\n",
            "Train Epoch: 2 [2560/60000]\tLoss: 0.141388\n",
            "Train Epoch: 2 [3200/60000]\tLoss: 0.255488\n",
            "Train Epoch: 2 [3840/60000]\tLoss: 0.401344\n",
            "Train Epoch: 2 [4480/60000]\tLoss: 0.173082\n",
            "Train Epoch: 2 [5120/60000]\tLoss: 0.238564\n",
            "Train Epoch: 2 [5760/60000]\tLoss: 0.189379\n",
            "Train Epoch: 2 [6400/60000]\tLoss: 0.233537\n",
            "Train Epoch: 2 [7040/60000]\tLoss: 0.146039\n",
            "Train Epoch: 2 [7680/60000]\tLoss: 0.191032\n",
            "Train Epoch: 2 [8320/60000]\tLoss: 0.289027\n",
            "Train Epoch: 2 [8960/60000]\tLoss: 0.192151\n",
            "Train Epoch: 2 [9600/60000]\tLoss: 0.212705\n",
            "Train Epoch: 2 [10240/60000]\tLoss: 0.161409\n",
            "Train Epoch: 2 [10880/60000]\tLoss: 0.284725\n",
            "Train Epoch: 2 [11520/60000]\tLoss: 0.139675\n",
            "Train Epoch: 2 [12160/60000]\tLoss: 0.195662\n",
            "Train Epoch: 2 [12800/60000]\tLoss: 0.171266\n",
            "Train Epoch: 2 [13440/60000]\tLoss: 0.177495\n",
            "Train Epoch: 2 [14080/60000]\tLoss: 0.088271\n",
            "Train Epoch: 2 [14720/60000]\tLoss: 0.358039\n",
            "Train Epoch: 2 [15360/60000]\tLoss: 0.121602\n",
            "Train Epoch: 2 [16000/60000]\tLoss: 0.236074\n",
            "Train Epoch: 2 [16640/60000]\tLoss: 0.476024\n",
            "Train Epoch: 2 [17280/60000]\tLoss: 0.186164\n",
            "Train Epoch: 2 [17920/60000]\tLoss: 0.178047\n",
            "Train Epoch: 2 [18560/60000]\tLoss: 0.138524\n",
            "Train Epoch: 2 [19200/60000]\tLoss: 0.289682\n",
            "Train Epoch: 2 [19840/60000]\tLoss: 0.221978\n",
            "Train Epoch: 2 [20480/60000]\tLoss: 0.104154\n",
            "Train Epoch: 2 [21120/60000]\tLoss: 0.145452\n",
            "Train Epoch: 2 [21760/60000]\tLoss: 0.279912\n",
            "Train Epoch: 2 [22400/60000]\tLoss: 0.181211\n",
            "Train Epoch: 2 [23040/60000]\tLoss: 0.214578\n",
            "Train Epoch: 2 [23680/60000]\tLoss: 0.139647\n",
            "Train Epoch: 2 [24320/60000]\tLoss: 0.301645\n",
            "Train Epoch: 2 [24960/60000]\tLoss: 0.268902\n",
            "Train Epoch: 2 [25600/60000]\tLoss: 0.199055\n",
            "Train Epoch: 2 [26240/60000]\tLoss: 0.180792\n",
            "Train Epoch: 2 [26880/60000]\tLoss: 0.114303\n",
            "Train Epoch: 2 [27520/60000]\tLoss: 0.149213\n",
            "Train Epoch: 2 [28160/60000]\tLoss: 0.158183\n",
            "Train Epoch: 2 [28800/60000]\tLoss: 0.213138\n",
            "Train Epoch: 2 [29440/60000]\tLoss: 0.184693\n",
            "Train Epoch: 2 [30080/60000]\tLoss: 0.115103\n",
            "Train Epoch: 2 [30720/60000]\tLoss: 0.055357\n",
            "Train Epoch: 2 [31360/60000]\tLoss: 0.218208\n",
            "Train Epoch: 2 [32000/60000]\tLoss: 0.235315\n",
            "Train Epoch: 2 [32640/60000]\tLoss: 0.395818\n",
            "Train Epoch: 2 [33280/60000]\tLoss: 0.303484\n",
            "Train Epoch: 2 [33920/60000]\tLoss: 0.222241\n",
            "Train Epoch: 2 [34560/60000]\tLoss: 0.200112\n",
            "Train Epoch: 2 [35200/60000]\tLoss: 0.086792\n",
            "Train Epoch: 2 [35840/60000]\tLoss: 0.241459\n",
            "Train Epoch: 2 [36480/60000]\tLoss: 0.116056\n",
            "Train Epoch: 2 [37120/60000]\tLoss: 0.190699\n",
            "Train Epoch: 2 [37760/60000]\tLoss: 0.154874\n",
            "Train Epoch: 2 [38400/60000]\tLoss: 0.327867\n",
            "Train Epoch: 2 [39040/60000]\tLoss: 0.131849\n",
            "Train Epoch: 2 [39680/60000]\tLoss: 0.136048\n",
            "Train Epoch: 2 [40320/60000]\tLoss: 0.147678\n",
            "Train Epoch: 2 [40960/60000]\tLoss: 0.095049\n",
            "Train Epoch: 2 [41600/60000]\tLoss: 0.174509\n",
            "Train Epoch: 2 [42240/60000]\tLoss: 0.131995\n",
            "Train Epoch: 2 [42880/60000]\tLoss: 0.104040\n",
            "Train Epoch: 2 [43520/60000]\tLoss: 0.159065\n",
            "Train Epoch: 2 [44160/60000]\tLoss: 0.102694\n",
            "Train Epoch: 2 [44800/60000]\tLoss: 0.202300\n",
            "Train Epoch: 2 [45440/60000]\tLoss: 0.266533\n",
            "Train Epoch: 2 [46080/60000]\tLoss: 0.125779\n",
            "Train Epoch: 2 [46720/60000]\tLoss: 0.086801\n",
            "Train Epoch: 2 [47360/60000]\tLoss: 0.160661\n",
            "Train Epoch: 2 [48000/60000]\tLoss: 0.224838\n",
            "Train Epoch: 2 [48640/60000]\tLoss: 0.082656\n",
            "Train Epoch: 2 [49280/60000]\tLoss: 0.196204\n",
            "Train Epoch: 2 [49920/60000]\tLoss: 0.156934\n",
            "Train Epoch: 2 [50560/60000]\tLoss: 0.122251\n",
            "Train Epoch: 2 [51200/60000]\tLoss: 0.140759\n",
            "Train Epoch: 2 [51840/60000]\tLoss: 0.117202\n",
            "Train Epoch: 2 [52480/60000]\tLoss: 0.149522\n",
            "Train Epoch: 2 [53120/60000]\tLoss: 0.102538\n",
            "Train Epoch: 2 [53760/60000]\tLoss: 0.259961\n",
            "Train Epoch: 2 [54400/60000]\tLoss: 0.068051\n",
            "Train Epoch: 2 [55040/60000]\tLoss: 0.151061\n",
            "Train Epoch: 2 [55680/60000]\tLoss: 0.254849\n",
            "Train Epoch: 2 [56320/60000]\tLoss: 0.046334\n",
            "Train Epoch: 2 [56960/60000]\tLoss: 0.231860\n",
            "Train Epoch: 2 [57600/60000]\tLoss: 0.239296\n",
            "Train Epoch: 2 [58240/60000]\tLoss: 0.201127\n",
            "Train Epoch: 2 [58880/60000]\tLoss: 0.176765\n",
            "Train Epoch: 2 [59520/60000]\tLoss: 0.235079\n",
            "\n",
            "Test set: Avg. loss: 0.0856, Accuracy: 9726/10000 (97%)\n",
            "\n",
            "Train Epoch: 3 [0/60000]\tLoss: 0.274474\n",
            "Train Epoch: 3 [640/60000]\tLoss: 0.259854\n",
            "Train Epoch: 3 [1280/60000]\tLoss: 0.135077\n",
            "Train Epoch: 3 [1920/60000]\tLoss: 0.105502\n",
            "Train Epoch: 3 [2560/60000]\tLoss: 0.271050\n",
            "Train Epoch: 3 [3200/60000]\tLoss: 0.187768\n",
            "Train Epoch: 3 [3840/60000]\tLoss: 0.162944\n",
            "Train Epoch: 3 [4480/60000]\tLoss: 0.214303\n",
            "Train Epoch: 3 [5120/60000]\tLoss: 0.068003\n",
            "Train Epoch: 3 [5760/60000]\tLoss: 0.280350\n",
            "Train Epoch: 3 [6400/60000]\tLoss: 0.070802\n",
            "Train Epoch: 3 [7040/60000]\tLoss: 0.312477\n",
            "Train Epoch: 3 [7680/60000]\tLoss: 0.140475\n",
            "Train Epoch: 3 [8320/60000]\tLoss: 0.093162\n",
            "Train Epoch: 3 [8960/60000]\tLoss: 0.163687\n",
            "Train Epoch: 3 [9600/60000]\tLoss: 0.236275\n",
            "Train Epoch: 3 [10240/60000]\tLoss: 0.357322\n",
            "Train Epoch: 3 [10880/60000]\tLoss: 0.176438\n",
            "Train Epoch: 3 [11520/60000]\tLoss: 0.201832\n",
            "Train Epoch: 3 [12160/60000]\tLoss: 0.152836\n",
            "Train Epoch: 3 [12800/60000]\tLoss: 0.109835\n",
            "Train Epoch: 3 [13440/60000]\tLoss: 0.122271\n",
            "Train Epoch: 3 [14080/60000]\tLoss: 0.183924\n",
            "Train Epoch: 3 [14720/60000]\tLoss: 0.150284\n",
            "Train Epoch: 3 [15360/60000]\tLoss: 0.125645\n",
            "Train Epoch: 3 [16000/60000]\tLoss: 0.202136\n",
            "Train Epoch: 3 [16640/60000]\tLoss: 0.132227\n",
            "Train Epoch: 3 [17280/60000]\tLoss: 0.283289\n",
            "Train Epoch: 3 [17920/60000]\tLoss: 0.218466\n",
            "Train Epoch: 3 [18560/60000]\tLoss: 0.082532\n",
            "Train Epoch: 3 [19200/60000]\tLoss: 0.149849\n",
            "Train Epoch: 3 [19840/60000]\tLoss: 0.156597\n",
            "Train Epoch: 3 [20480/60000]\tLoss: 0.098089\n",
            "Train Epoch: 3 [21120/60000]\tLoss: 0.465698\n",
            "Train Epoch: 3 [21760/60000]\tLoss: 0.061020\n",
            "Train Epoch: 3 [22400/60000]\tLoss: 0.060055\n",
            "Train Epoch: 3 [23040/60000]\tLoss: 0.287580\n",
            "Train Epoch: 3 [23680/60000]\tLoss: 0.061365\n",
            "Train Epoch: 3 [24320/60000]\tLoss: 0.071110\n",
            "Train Epoch: 3 [24960/60000]\tLoss: 0.108012\n",
            "Train Epoch: 3 [25600/60000]\tLoss: 0.035889\n",
            "Train Epoch: 3 [26240/60000]\tLoss: 0.099710\n",
            "Train Epoch: 3 [26880/60000]\tLoss: 0.117235\n",
            "Train Epoch: 3 [27520/60000]\tLoss: 0.219999\n",
            "Train Epoch: 3 [28160/60000]\tLoss: 0.215293\n",
            "Train Epoch: 3 [28800/60000]\tLoss: 0.067493\n",
            "Train Epoch: 3 [29440/60000]\tLoss: 0.115269\n",
            "Train Epoch: 3 [30080/60000]\tLoss: 0.192762\n",
            "Train Epoch: 3 [30720/60000]\tLoss: 0.146389\n",
            "Train Epoch: 3 [31360/60000]\tLoss: 0.121728\n",
            "Train Epoch: 3 [32000/60000]\tLoss: 0.061572\n",
            "Train Epoch: 3 [32640/60000]\tLoss: 0.110317\n",
            "Train Epoch: 3 [33280/60000]\tLoss: 0.172793\n",
            "Train Epoch: 3 [33920/60000]\tLoss: 0.351037\n",
            "Train Epoch: 3 [34560/60000]\tLoss: 0.172726\n",
            "Train Epoch: 3 [35200/60000]\tLoss: 0.137856\n",
            "Train Epoch: 3 [35840/60000]\tLoss: 0.174275\n",
            "Train Epoch: 3 [36480/60000]\tLoss: 0.254246\n",
            "Train Epoch: 3 [37120/60000]\tLoss: 0.143761\n",
            "Train Epoch: 3 [37760/60000]\tLoss: 0.161919\n",
            "Train Epoch: 3 [38400/60000]\tLoss: 0.155512\n",
            "Train Epoch: 3 [39040/60000]\tLoss: 0.072314\n",
            "Train Epoch: 3 [39680/60000]\tLoss: 0.317038\n",
            "Train Epoch: 3 [40320/60000]\tLoss: 0.208140\n",
            "Train Epoch: 3 [40960/60000]\tLoss: 0.141058\n",
            "Train Epoch: 3 [41600/60000]\tLoss: 0.154636\n",
            "Train Epoch: 3 [42240/60000]\tLoss: 0.333218\n",
            "Train Epoch: 3 [42880/60000]\tLoss: 0.158118\n",
            "Train Epoch: 3 [43520/60000]\tLoss: 0.200164\n",
            "Train Epoch: 3 [44160/60000]\tLoss: 0.223973\n",
            "Train Epoch: 3 [44800/60000]\tLoss: 0.176474\n",
            "Train Epoch: 3 [45440/60000]\tLoss: 0.115509\n",
            "Train Epoch: 3 [46080/60000]\tLoss: 0.268943\n",
            "Train Epoch: 3 [46720/60000]\tLoss: 0.259125\n",
            "Train Epoch: 3 [47360/60000]\tLoss: 0.111068\n",
            "Train Epoch: 3 [48000/60000]\tLoss: 0.048525\n",
            "Train Epoch: 3 [48640/60000]\tLoss: 0.058332\n",
            "Train Epoch: 3 [49280/60000]\tLoss: 0.108171\n",
            "Train Epoch: 3 [49920/60000]\tLoss: 0.128611\n",
            "Train Epoch: 3 [50560/60000]\tLoss: 0.082373\n",
            "Train Epoch: 3 [51200/60000]\tLoss: 0.147086\n",
            "Train Epoch: 3 [51840/60000]\tLoss: 0.106357\n",
            "Train Epoch: 3 [52480/60000]\tLoss: 0.131599\n",
            "Train Epoch: 3 [53120/60000]\tLoss: 0.146312\n",
            "Train Epoch: 3 [53760/60000]\tLoss: 0.149668\n",
            "Train Epoch: 3 [54400/60000]\tLoss: 0.034812\n",
            "Train Epoch: 3 [55040/60000]\tLoss: 0.157019\n",
            "Train Epoch: 3 [55680/60000]\tLoss: 0.300232\n",
            "Train Epoch: 3 [56320/60000]\tLoss: 0.059149\n",
            "Train Epoch: 3 [56960/60000]\tLoss: 0.060466\n",
            "Train Epoch: 3 [57600/60000]\tLoss: 0.089451\n",
            "Train Epoch: 3 [58240/60000]\tLoss: 0.227670\n",
            "Train Epoch: 3 [58880/60000]\tLoss: 0.078707\n",
            "Train Epoch: 3 [59520/60000]\tLoss: 0.076414\n",
            "\n",
            "Test set: Avg. loss: 0.0687, Accuracy: 9776/10000 (98%)\n",
            "\n"
          ]
        }
      ]
    },
    {
      "cell_type": "code",
      "source": [
        "# Run network on data we got before and show predictions\n",
        "output = model(example_data)\n",
        "\n",
        "fig = plt.figure()\n",
        "for i in range(10):\n",
        "  plt.subplot(5,5,i+1)\n",
        "  plt.tight_layout()\n",
        "  plt.imshow(example_data[i][0], cmap='gray', interpolation='none')\n",
        "  plt.title(\"Prediction: {}\".format(\n",
        "    output.data.max(1, keepdim=True)[1][i].item()))\n",
        "  plt.xticks([])\n",
        "  plt.yticks([])\n",
        "plt.show()"
      ],
      "metadata": {
        "id": "o7fRUAy9Se1B",
        "colab": {
          "base_uri": "https://localhost:8080/",
          "height": 262
        },
        "outputId": "87119c74-0fc7-4664-ed4e-6dd5c88b1399"
      },
      "execution_count": 10,
      "outputs": [
        {
          "output_type": "stream",
          "name": "stderr",
          "text": [
            "<ipython-input-4-1d8735c7b380>:42: UserWarning: Implicit dimension choice for log_softmax has been deprecated. Change the call to include dim=X as an argument.\n",
            "  x = F.log_softmax(x)\n"
          ]
        },
        {
          "output_type": "display_data",
          "data": {
            "text/plain": [
              "<Figure size 640x480 with 10 Axes>"
            ],
            "image/png": "[encoded data removed]"
          },
          "metadata": {}
        }
      ]
    }
  ]
}