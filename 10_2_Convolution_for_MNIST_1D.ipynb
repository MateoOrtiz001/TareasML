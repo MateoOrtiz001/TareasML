{
  "nbformat": 4,
  "nbformat_minor": 0,
  "metadata": {
    "colab": {
      "provenance": [],
      "include_colab_link": true
    },
    "kernelspec": {
      "name": "python3",
      "display_name": "Python 3"
    },
    "language_info": {
      "name": "python"
    }
  },
  "cells": [
    {
      "cell_type": "markdown",
      "metadata": {
        "id": "view-in-github",
        "colab_type": "text"
      },
      "source": [
        "<a href=\"https://colab.research.google.com/github/MateoOrtiz001/TareasML/blob/main/10_2_Convolution_for_MNIST_1D.ipynb\" target=\"_parent\"><img src=\"https://colab.research.google.com/assets/colab-badge.svg\" alt=\"Open In Colab\"/></a>"
      ]
    },
    {
      "cell_type": "markdown",
      "source": [
        "# **Notebook 10.2: Convolution for MNIST-1D**\n",
        "\n",
        "This notebook investigates a 1D convolutional network for MNIST-1D as in figure 10.7 and 10.8a.\n",
        "\n",
        "Work through the cells below, running each cell in turn. In various places you will see the words \"TO DO\". Follow the instructions at these places and make predictions about what is going to happen or write code to complete the functions.\n",
        "\n",
        "Contact me at udlbookmail@gmail.com if you find any mistakes or have any suggestions.\n",
        "\n"
      ],
      "metadata": {
        "id": "t9vk9Elugvmi"
      }
    },
    {
      "cell_type": "code",
      "source": [
        "# Run this if you're in a Colab to install MNIST 1D repository\n",
        "!pip install git+https://github.com/greydanus/mnist1d"
      ],
      "metadata": {
        "id": "D5yLObtZCi9J",
        "colab": {
          "base_uri": "https://localhost:8080/"
        },
        "outputId": "93ffd805-92b9-49d1-ca31-3fc18b3e253a"
      },
      "execution_count": 1,
      "outputs": [
        {
          "output_type": "stream",
          "name": "stdout",
          "text": [
            "Collecting git+https://github.com/greydanus/mnist1d\n",
            "  Cloning https://github.com/greydanus/mnist1d to /tmp/pip-req-build-56wp7nju\n",
            "  Running command git clone --filter=blob:none --quiet https://github.com/greydanus/mnist1d /tmp/pip-req-build-56wp7nju\n",
            "  Resolved https://github.com/greydanus/mnist1d to commit 350929d12f4c9a4b7355e0c96604e41b9239bdb4\n",
            "  Installing build dependencies ... \u001b[?25l\u001b[?25hdone\n",
            "  Getting requirements to build wheel ... \u001b[?25l\u001b[?25hdone\n",
            "  Preparing metadata (pyproject.toml) ... \u001b[?25l\u001b[?25hdone\n",
            "Requirement already satisfied: requests in /usr/local/lib/python3.10/dist-packages (from mnist1d==0.0.2.post9) (2.31.0)\n",
            "Requirement already satisfied: numpy in /usr/local/lib/python3.10/dist-packages (from mnist1d==0.0.2.post9) (1.25.2)\n",
            "Requirement already satisfied: matplotlib in /usr/local/lib/python3.10/dist-packages (from mnist1d==0.0.2.post9) (3.7.1)\n",
            "Requirement already satisfied: scipy in /usr/local/lib/python3.10/dist-packages (from mnist1d==0.0.2.post9) (1.11.4)\n",
            "Requirement already satisfied: contourpy>=1.0.1 in /usr/local/lib/python3.10/dist-packages (from matplotlib->mnist1d==0.0.2.post9) (1.2.1)\n",
            "Requirement already satisfied: cycler>=0.10 in /usr/local/lib/python3.10/dist-packages (from matplotlib->mnist1d==0.0.2.post9) (0.12.1)\n",
            "Requirement already satisfied: fonttools>=4.22.0 in /usr/local/lib/python3.10/dist-packages (from matplotlib->mnist1d==0.0.2.post9) (4.53.0)\n",
            "Requirement already satisfied: kiwisolver>=1.0.1 in /usr/local/lib/python3.10/dist-packages (from matplotlib->mnist1d==0.0.2.post9) (1.4.5)\n",
            "Requirement already satisfied: packaging>=20.0 in /usr/local/lib/python3.10/dist-packages (from matplotlib->mnist1d==0.0.2.post9) (24.1)\n",
            "Requirement already satisfied: pillow>=6.2.0 in /usr/local/lib/python3.10/dist-packages (from matplotlib->mnist1d==0.0.2.post9) (9.4.0)\n",
            "Requirement already satisfied: pyparsing>=2.3.1 in /usr/local/lib/python3.10/dist-packages (from matplotlib->mnist1d==0.0.2.post9) (3.1.2)\n",
            "Requirement already satisfied: python-dateutil>=2.7 in /usr/local/lib/python3.10/dist-packages (from matplotlib->mnist1d==0.0.2.post9) (2.8.2)\n",
            "Requirement already satisfied: charset-normalizer<4,>=2 in /usr/local/lib/python3.10/dist-packages (from requests->mnist1d==0.0.2.post9) (3.3.2)\n",
            "Requirement already satisfied: idna<4,>=2.5 in /usr/local/lib/python3.10/dist-packages (from requests->mnist1d==0.0.2.post9) (3.7)\n",
            "Requirement already satisfied: urllib3<3,>=1.21.1 in /usr/local/lib/python3.10/dist-packages (from requests->mnist1d==0.0.2.post9) (2.0.7)\n",
            "Requirement already satisfied: certifi>=2017.4.17 in /usr/local/lib/python3.10/dist-packages (from requests->mnist1d==0.0.2.post9) (2024.6.2)\n",
            "Requirement already satisfied: six>=1.5 in /usr/local/lib/python3.10/dist-packages (from python-dateutil>=2.7->matplotlib->mnist1d==0.0.2.post9) (1.16.0)\n",
            "Building wheels for collected packages: mnist1d\n",
            "  Building wheel for mnist1d (pyproject.toml) ... \u001b[?25l\u001b[?25hdone\n",
            "  Created wheel for mnist1d: filename=mnist1d-0.0.2.post9-py3-none-any.whl size=14496 sha256=c8bfb53d04d6f7be52d5f633868523e2752eea6196eed8e044c194154d7d4143\n",
            "  Stored in directory: /tmp/pip-ephem-wheel-cache-53iywf9c/wheels/41/95/55/45fcf7d38cfa97e35682da6c5017d4513729131326ce935371\n",
            "Successfully built mnist1d\n",
            "Installing collected packages: mnist1d\n",
            "Successfully installed mnist1d-0.0.2.post9\n"
          ]
        }
      ]
    },
    {
      "cell_type": "code",
      "source": [
        "import numpy as np\n",
        "import os\n",
        "import torch, torch.nn as nn\n",
        "from torch.utils.data import TensorDataset, DataLoader\n",
        "from torch.optim.lr_scheduler import StepLR\n",
        "import matplotlib.pyplot as plt\n",
        "import mnist1d\n",
        "import random"
      ],
      "metadata": {
        "id": "YrXWAH7sUWvU"
      },
      "execution_count": 2,
      "outputs": []
    },
    {
      "cell_type": "code",
      "source": [
        "args = mnist1d.data.get_dataset_args()\n",
        "data = mnist1d.data.get_dataset(args, path='./mnist1d_data.pkl', download=False, regenerate=False)\n",
        "\n",
        "# The training and test input and outputs are in\n",
        "# data['x'], data['y'], data['x_test'], and data['y_test']\n",
        "print(\"Examples in training set: {}\".format(len(data['y'])))\n",
        "print(\"Examples in test set: {}\".format(len(data['y_test'])))\n",
        "print(\"Length of each example: {}\".format(data['x'].shape[-1]))"
      ],
      "metadata": {
        "id": "twI72ZCrCt5z",
        "colab": {
          "base_uri": "https://localhost:8080/"
        },
        "outputId": "58b651aa-187b-4fd0-e1ba-56a047369768"
      },
      "execution_count": 3,
      "outputs": [
        {
          "output_type": "stream",
          "name": "stdout",
          "text": [
            "Did or could not load data from ./mnist1d_data.pkl. Rebuilding dataset...\n",
            "Examples in training set: 4000\n",
            "Examples in test set: 1000\n",
            "Length of each example: 40\n"
          ]
        }
      ]
    },
    {
      "cell_type": "code",
      "source": [
        "# Load in the data\n",
        "train_data_x = data['x'].transpose()\n",
        "train_data_y = data['y']\n",
        "val_data_x = data['x_test'].transpose()\n",
        "val_data_y = data['y_test']\n",
        "# Print out sizes\n",
        "print(\"Train data: %d examples (columns), each of which has %d dimensions (rows)\"%((train_data_x.shape[1],train_data_x.shape[0])))\n",
        "print(\"Validation data: %d examples (columns), each of which has %d dimensions (rows)\"%((val_data_x.shape[1],val_data_x.shape[0])))"
      ],
      "metadata": {
        "id": "8bKADvLHbiV5",
        "colab": {
          "base_uri": "https://localhost:8080/"
        },
        "outputId": "6d39a6c0-0621-4c70-af07-be5ce64270f2"
      },
      "execution_count": 4,
      "outputs": [
        {
          "output_type": "stream",
          "name": "stdout",
          "text": [
            "Train data: 4000 examples (columns), each of which has 40 dimensions (rows)\n",
            "Validation data: 1000 examples (columns), each of which has 40 dimensions (rows)\n"
          ]
        }
      ]
    },
    {
      "cell_type": "markdown",
      "source": [
        "Define the network"
      ],
      "metadata": {
        "id": "_sFvRDGrl4qe"
      }
    },
    {
      "cell_type": "code",
      "source": [
        "# There are 40 input dimensions and 10 output dimensions for this data\n",
        "# The inputs correspond to the 40 offsets in the MNIST1D template.\n",
        "D_i = 40\n",
        "# The outputs correspond to the 10 digits\n",
        "D_o = 10\n",
        "\n",
        "\n",
        "# TODO Create a model with the following layers\n",
        "# 1. Convolutional layer, (input=length 40 and 1 channel, kernel size 3, stride 2, padding=\"valid\", 15 output channels )\n",
        "# 2. ReLU\n",
        "# 3. Convolutional layer, (input=length 19 and 15 channels, kernel size 3, stride 2, padding=\"valid\", 15 output channels )\n",
        "# 4. ReLU\n",
        "# 5. Convolutional layer, (input=length 9 and 15 channels, kernel size 3, stride 2, padding=\"valid\", 15 output channels)\n",
        "# 6. ReLU\n",
        "# 7. Flatten (converts 4x15) to length 60\n",
        "# 8. Linear layer (input size = 60, output size = 10)\n",
        "# References:\n",
        "# https://pytorch.org/docs/1.13/generated/torch.nn.Conv1d.html?highlight=conv1d#torch.nn.Conv1d\n",
        "# https://pytorch.org/docs/stable/generated/torch.nn.Flatten.html\n",
        "# https://pytorch.org/docs/1.13/generated/torch.nn.Linear.html?highlight=linear#torch.nn.Linear\n",
        "\n",
        "# NOTE THAT THE CONVOLUTIONAL LAYERS NEED TO TAKE THE NUMBER OF INPUT CHANNELS AS A PARAMETER\n",
        "# AND NOT THE INPUT SIZE.\n",
        "\n",
        "# Replace the following function:\n",
        "model = nn.Sequential(\n",
        "nn.Conv1d(in_channels = 1, out_channels = 15, kernel_size = 3, stride=2, padding=\"valid\"),\n",
        "nn.ReLU(),\n",
        "nn.Conv1d(in_channels = 15, out_channels = 15, kernel_size = 3, stride=2, padding=\"valid\"),\n",
        "nn.ReLU(),\n",
        "nn.Conv1d(in_channels = 15, out_channels = 15, kernel_size = 3, stride=2, padding=\"valid\"),\n",
        "nn.ReLU(),\n",
        "nn.Flatten(),\n",
        "nn.Linear(60, 100))\n",
        "\n",
        "\n"
      ],
      "metadata": {
        "id": "FslroPJJffrh"
      },
      "execution_count": 5,
      "outputs": []
    },
    {
      "cell_type": "code",
      "source": [
        "# He initialization of weights\n",
        "def weights_init(layer_in):\n",
        "  if isinstance(layer_in, nn.Linear):\n",
        "    nn.init.kaiming_uniform_(layer_in.weight)\n",
        "    layer_in.bias.data.fill_(0.0)"
      ],
      "metadata": {
        "id": "YgLaex1pfhqz"
      },
      "execution_count": 6,
      "outputs": []
    },
    {
      "cell_type": "code",
      "source": [
        "# choose cross entropy loss function (equation 5.24 in the loss notes)\n",
        "loss_function = nn.CrossEntropyLoss()\n",
        "# construct SGD optimizer and initialize learning rate and momentum\n",
        "optimizer = torch.optim.SGD(model.parameters(), lr = 0.05, momentum=0.9)\n",
        "# object that decreases learning rate by half every 20 epochs\n",
        "scheduler = StepLR(optimizer, step_size=20, gamma=0.5)\n",
        "# create 100 dummy data points and store in data loader class\n",
        "x_train = torch.tensor(train_data_x.transpose().astype('float32'))\n",
        "y_train = torch.tensor(train_data_y.astype('long')).long()\n",
        "x_val= torch.tensor(val_data_x.transpose().astype('float32'))\n",
        "y_val = torch.tensor(val_data_y.astype('long')).long()\n",
        "\n",
        "# load the data into a class that creates the batches\n",
        "data_loader = DataLoader(TensorDataset(x_train,y_train), batch_size=100, shuffle=True, worker_init_fn=np.random.seed(1))\n",
        "\n",
        "# Initialize model weights\n",
        "model.apply(weights_init)\n",
        "\n",
        "# loop over the dataset n_epoch times\n",
        "n_epoch = 100\n",
        "# store the loss and the % correct at each epoch\n",
        "losses_train = np.zeros((n_epoch))\n",
        "errors_train = np.zeros((n_epoch))\n",
        "losses_val = np.zeros((n_epoch))\n",
        "errors_val = np.zeros((n_epoch))\n",
        "\n",
        "for epoch in range(n_epoch):\n",
        "  # loop over batches\n",
        "  for i, data in enumerate(data_loader):\n",
        "    # retrieve inputs and labels for this batch\n",
        "    x_batch, y_batch = data\n",
        "    # zero the parameter gradients\n",
        "    optimizer.zero_grad()\n",
        "    # forward pass -- calculate model output\n",
        "    pred = model(x_batch[:,None,:])\n",
        "    # compute the loss\n",
        "    loss = loss_function(pred, y_batch)\n",
        "    # backward pass\n",
        "    loss.backward()\n",
        "    # SGD update\n",
        "    optimizer.step()\n",
        "\n",
        "  # Run whole dataset to get statistics -- normally wouldn't do this\n",
        "  pred_train = model(x_train[:,None,:])\n",
        "  pred_val = model(x_val[:,None,:])\n",
        "  _, predicted_train_class = torch.max(pred_train.data, 1)\n",
        "  _, predicted_val_class = torch.max(pred_val.data, 1)\n",
        "  errors_train[epoch] = 100 - 100 * (predicted_train_class == y_train).float().sum() / len(y_train)\n",
        "  errors_val[epoch]= 100 - 100 * (predicted_val_class == y_val).float().sum() / len(y_val)\n",
        "  losses_train[epoch] = loss_function(pred_train, y_train).item()\n",
        "  losses_val[epoch]= loss_function(pred_val, y_val).item()\n",
        "  print(f'Epoch {epoch:5d}, train loss {losses_train[epoch]:.6f}, train error {errors_train[epoch]:3.2f},  val loss {losses_val[epoch]:.6f}, percent error {errors_val[epoch]:3.2f}')\n",
        "\n",
        "  # tell scheduler to consider updating learning rate\n",
        "  scheduler.step()\n",
        "\n",
        "# Plot the results\n",
        "fig, ax = plt.subplots()\n",
        "ax.plot(errors_train,'r-',label='train')\n",
        "ax.plot(errors_val,'b-',label='validation')\n",
        "ax.set_ylim(0,100); ax.set_xlim(0,n_epoch)\n",
        "ax.set_xlabel('Epoch'); ax.set_ylabel('Error')\n",
        "ax.set_title('Part I: Validation Result %3.2f'%(errors_val[-1]))\n",
        "ax.legend()\n",
        "plt.show()"
      ],
      "metadata": {
        "id": "NYw8I_3mmX5c",
        "colab": {
          "base_uri": "https://localhost:8080/",
          "height": 1000
        },
        "outputId": "56fd17af-4e4e-45c5-8aa0-eac1a828ed00"
      },
      "execution_count": 7,
      "outputs": [
        {
          "output_type": "stream",
          "name": "stdout",
          "text": [
            "Epoch     0, train loss 2.099774, train error 80.78,  val loss 2.099673, percent error 81.50\n",
            "Epoch     1, train loss 1.634731, train error 65.55,  val loss 1.637834, percent error 67.10\n",
            "Epoch     2, train loss 1.434981, train error 57.50,  val loss 1.440189, percent error 59.50\n",
            "Epoch     3, train loss 1.309594, train error 52.60,  val loss 1.303003, percent error 55.10\n",
            "Epoch     4, train loss 1.277517, train error 53.35,  val loss 1.304555, percent error 55.70\n",
            "Epoch     5, train loss 1.283724, train error 53.97,  val loss 1.318357, percent error 57.30\n",
            "Epoch     6, train loss 1.188187, train error 50.95,  val loss 1.206543, percent error 52.40\n",
            "Epoch     7, train loss 1.105980, train error 45.97,  val loss 1.128276, percent error 49.60\n",
            "Epoch     8, train loss 1.162992, train error 49.85,  val loss 1.181067, percent error 50.80\n",
            "Epoch     9, train loss 0.969532, train error 37.12,  val loss 0.969606, percent error 39.30\n",
            "Epoch    10, train loss 0.856653, train error 33.50,  val loss 0.881990, percent error 35.50\n",
            "Epoch    11, train loss 0.872417, train error 33.57,  val loss 0.924788, percent error 35.60\n",
            "Epoch    12, train loss 0.660844, train error 25.47,  val loss 0.702505, percent error 27.30\n",
            "Epoch    13, train loss 0.617882, train error 23.57,  val loss 0.670170, percent error 27.10\n",
            "Epoch    14, train loss 0.508693, train error 18.80,  val loss 0.545892, percent error 21.00\n",
            "Epoch    15, train loss 0.490003, train error 18.32,  val loss 0.524705, percent error 20.20\n",
            "Epoch    16, train loss 0.476916, train error 17.28,  val loss 0.529560, percent error 19.70\n",
            "Epoch    17, train loss 0.531148, train error 20.95,  val loss 0.603665, percent error 23.60\n",
            "Epoch    18, train loss 0.387817, train error 14.40,  val loss 0.464524, percent error 18.20\n",
            "Epoch    19, train loss 0.423436, train error 15.30,  val loss 0.512997, percent error 19.50\n",
            "Epoch    20, train loss 0.308319, train error 10.70,  val loss 0.421392, percent error 15.10\n",
            "Epoch    21, train loss 0.305981, train error 10.80,  val loss 0.418457, percent error 13.60\n",
            "Epoch    22, train loss 0.283037, train error 9.97,  val loss 0.415794, percent error 14.20\n",
            "Epoch    23, train loss 0.275929, train error 9.12,  val loss 0.400485, percent error 13.70\n",
            "Epoch    24, train loss 0.277131, train error 9.60,  val loss 0.400287, percent error 14.10\n",
            "Epoch    25, train loss 0.272616, train error 9.55,  val loss 0.399949, percent error 13.70\n",
            "Epoch    26, train loss 0.252373, train error 8.60,  val loss 0.404912, percent error 12.60\n",
            "Epoch    27, train loss 0.235880, train error 7.93,  val loss 0.394006, percent error 13.90\n",
            "Epoch    28, train loss 0.272633, train error 10.40,  val loss 0.433555, percent error 14.90\n",
            "Epoch    29, train loss 0.224478, train error 8.78,  val loss 0.386836, percent error 12.90\n",
            "Epoch    30, train loss 0.216896, train error 7.88,  val loss 0.391126, percent error 11.90\n",
            "Epoch    31, train loss 0.236066, train error 9.12,  val loss 0.424462, percent error 13.70\n",
            "Epoch    32, train loss 0.214819, train error 7.10,  val loss 0.381536, percent error 12.60\n",
            "Epoch    33, train loss 0.212310, train error 7.75,  val loss 0.392499, percent error 13.30\n",
            "Epoch    34, train loss 0.197329, train error 6.72,  val loss 0.403028, percent error 11.80\n",
            "Epoch    35, train loss 0.179297, train error 6.15,  val loss 0.381229, percent error 11.40\n",
            "Epoch    36, train loss 0.251446, train error 9.97,  val loss 0.474125, percent error 13.80\n",
            "Epoch    37, train loss 0.169418, train error 5.75,  val loss 0.361901, percent error 10.80\n",
            "Epoch    38, train loss 0.168008, train error 5.60,  val loss 0.382397, percent error 11.50\n",
            "Epoch    39, train loss 0.198404, train error 7.55,  val loss 0.397903, percent error 12.20\n",
            "Epoch    40, train loss 0.145866, train error 4.88,  val loss 0.365047, percent error 11.10\n",
            "Epoch    41, train loss 0.144610, train error 5.15,  val loss 0.366421, percent error 10.10\n",
            "Epoch    42, train loss 0.150093, train error 5.00,  val loss 0.363988, percent error 10.40\n",
            "Epoch    43, train loss 0.139884, train error 4.50,  val loss 0.351064, percent error 10.30\n",
            "Epoch    44, train loss 0.126943, train error 4.03,  val loss 0.365840, percent error 10.60\n",
            "Epoch    45, train loss 0.132577, train error 4.70,  val loss 0.371482, percent error 10.80\n",
            "Epoch    46, train loss 0.133209, train error 4.35,  val loss 0.372435, percent error 10.90\n",
            "Epoch    47, train loss 0.124288, train error 4.15,  val loss 0.362006, percent error 9.90\n",
            "Epoch    48, train loss 0.115520, train error 3.53,  val loss 0.355735, percent error 10.70\n",
            "Epoch    49, train loss 0.113888, train error 3.72,  val loss 0.351264, percent error 10.30\n",
            "Epoch    50, train loss 0.129624, train error 4.45,  val loss 0.383097, percent error 11.30\n",
            "Epoch    51, train loss 0.110710, train error 3.53,  val loss 0.361133, percent error 10.20\n",
            "Epoch    52, train loss 0.106284, train error 3.38,  val loss 0.357278, percent error 10.50\n",
            "Epoch    53, train loss 0.111846, train error 3.88,  val loss 0.357043, percent error 10.40\n",
            "Epoch    54, train loss 0.107430, train error 3.32,  val loss 0.362280, percent error 10.60\n",
            "Epoch    55, train loss 0.105897, train error 3.30,  val loss 0.373565, percent error 10.80\n",
            "Epoch    56, train loss 0.105788, train error 3.40,  val loss 0.369425, percent error 10.50\n",
            "Epoch    57, train loss 0.114106, train error 3.85,  val loss 0.369911, percent error 10.90\n",
            "Epoch    58, train loss 0.121303, train error 4.47,  val loss 0.392648, percent error 10.70\n",
            "Epoch    59, train loss 0.098068, train error 2.90,  val loss 0.366344, percent error 10.00\n",
            "Epoch    60, train loss 0.089243, train error 2.78,  val loss 0.354488, percent error 10.30\n",
            "Epoch    61, train loss 0.093528, train error 2.90,  val loss 0.371128, percent error 10.10\n",
            "Epoch    62, train loss 0.086117, train error 2.38,  val loss 0.359148, percent error 10.10\n",
            "Epoch    63, train loss 0.085659, train error 2.55,  val loss 0.368620, percent error 10.30\n",
            "Epoch    64, train loss 0.083971, train error 2.47,  val loss 0.363696, percent error 9.70\n",
            "Epoch    65, train loss 0.084220, train error 2.57,  val loss 0.367881, percent error 10.40\n",
            "Epoch    66, train loss 0.084092, train error 2.38,  val loss 0.371782, percent error 9.80\n",
            "Epoch    67, train loss 0.084029, train error 2.30,  val loss 0.374522, percent error 10.40\n",
            "Epoch    68, train loss 0.084775, train error 2.65,  val loss 0.369628, percent error 10.00\n",
            "Epoch    69, train loss 0.079308, train error 2.25,  val loss 0.370335, percent error 9.70\n",
            "Epoch    70, train loss 0.078578, train error 2.07,  val loss 0.373961, percent error 10.30\n",
            "Epoch    71, train loss 0.079464, train error 2.38,  val loss 0.368816, percent error 9.90\n",
            "Epoch    72, train loss 0.079726, train error 2.38,  val loss 0.375092, percent error 9.90\n",
            "Epoch    73, train loss 0.078428, train error 2.28,  val loss 0.376111, percent error 9.60\n",
            "Epoch    74, train loss 0.080136, train error 2.75,  val loss 0.369583, percent error 10.20\n",
            "Epoch    75, train loss 0.079169, train error 2.57,  val loss 0.378593, percent error 10.00\n",
            "Epoch    76, train loss 0.082454, train error 2.78,  val loss 0.385728, percent error 10.20\n",
            "Epoch    77, train loss 0.077175, train error 2.40,  val loss 0.378051, percent error 10.10\n",
            "Epoch    78, train loss 0.076621, train error 2.38,  val loss 0.381348, percent error 9.90\n",
            "Epoch    79, train loss 0.073982, train error 2.22,  val loss 0.381227, percent error 10.40\n",
            "Epoch    80, train loss 0.070032, train error 2.00,  val loss 0.374490, percent error 9.70\n",
            "Epoch    81, train loss 0.070545, train error 1.93,  val loss 0.375555, percent error 10.30\n",
            "Epoch    82, train loss 0.070135, train error 1.95,  val loss 0.376918, percent error 9.90\n",
            "Epoch    83, train loss 0.068819, train error 1.88,  val loss 0.376345, percent error 9.80\n",
            "Epoch    84, train loss 0.068218, train error 1.85,  val loss 0.375450, percent error 9.60\n",
            "Epoch    85, train loss 0.069759, train error 1.93,  val loss 0.376806, percent error 10.30\n",
            "Epoch    86, train loss 0.067456, train error 1.80,  val loss 0.377138, percent error 9.70\n",
            "Epoch    87, train loss 0.067846, train error 1.95,  val loss 0.374725, percent error 9.70\n",
            "Epoch    88, train loss 0.068072, train error 1.78,  val loss 0.380562, percent error 10.20\n",
            "Epoch    89, train loss 0.069411, train error 2.05,  val loss 0.379623, percent error 10.20\n",
            "Epoch    90, train loss 0.066941, train error 1.82,  val loss 0.377931, percent error 9.80\n",
            "Epoch    91, train loss 0.068123, train error 1.78,  val loss 0.380371, percent error 10.10\n",
            "Epoch    92, train loss 0.065802, train error 1.90,  val loss 0.384930, percent error 9.90\n",
            "Epoch    93, train loss 0.065731, train error 1.78,  val loss 0.382798, percent error 10.20\n",
            "Epoch    94, train loss 0.065833, train error 1.90,  val loss 0.384557, percent error 9.90\n",
            "Epoch    95, train loss 0.064716, train error 1.78,  val loss 0.379766, percent error 10.20\n",
            "Epoch    96, train loss 0.064511, train error 1.72,  val loss 0.383427, percent error 9.80\n",
            "Epoch    97, train loss 0.064496, train error 1.65,  val loss 0.381364, percent error 9.90\n",
            "Epoch    98, train loss 0.065473, train error 1.88,  val loss 0.387194, percent error 10.00\n",
            "Epoch    99, train loss 0.063090, train error 1.75,  val loss 0.383011, percent error 9.60\n"
          ]
        },
        {
          "output_type": "display_data",
          "data": {
            "text/plain": [
              "<Figure size 640x480 with 1 Axes>"
            ],
            "image/png": "[encoded data removed]"
          },
          "metadata": {}
        }
      ]
    }
  ]
}